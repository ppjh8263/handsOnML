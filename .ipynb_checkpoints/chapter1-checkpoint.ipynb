{
 "cells": [
  {
   "cell_type": "markdown",
   "metadata": {},
   "source": [
    "# 한눈에 보는 머신러닝"
   ]
  },
  {
   "cell_type": "markdown",
   "metadata": {},
   "source": [
    "# 예제 1"
   ]
  },
  {
   "cell_type": "code",
   "execution_count": 4,
   "metadata": {},
   "outputs": [
    {
     "data": {
      "image/png": "[encoded data removed]",
      "text/plain": [
       "<Figure size 432x288 with 1 Axes>"
      ]
     },
     "metadata": {
      "needs_background": "light"
     },
     "output_type": "display_data"
    },
    {
     "name": "stdout",
     "output_type": "stream",
     "text": [
      "[[6.28176477]]\n"
     ]
    }
   ],
   "source": [
    "import matplotlib.pyplot as plt\n",
    "import numpy as np\n",
    "import pandas as pd\n",
    "import sklearn.linear_model\n",
    "\n",
    "oecdBLI = pd.read_csv('rawData/BLI_10092020072350637.csv')\n",
    "gdp = pd.read_csv('rawData/WEO_Data.csv',thousands=',')\n",
    "\n",
    "oecdBLI=oecdBLI[oecdBLI[\"INEQUALITY\"]==\"TOT\"].pivot(index=\"Country\", columns=\"Indicator\", values=\"Value\")\n",
    "gdp.rename(columns={\"2015\": \"GDP\"}, inplace=True)\n",
    "gdp.set_index(\"Country\", inplace=True)\n",
    "\n",
    "bliGdp = pd.merge(oecdBLI, gdp, on=\"Country\")\n",
    "bliGdp.sort_values(by=\"GDP\", inplace=True)\n",
    "\n",
    "bliGdp=bliGdp[[\"GDP\", 'Life satisfaction']]\n",
    "\n",
    "X=np.c_[bliGdp[\"GDP\"]]\n",
    "Y=np.c_[bliGdp[\"Life satisfaction\"]]\n",
    "\n",
    "bliGdp.plot(kind='scatter', x=\"GDP\", y='Life satisfaction')\n",
    "plt.show()\n",
    "\n",
    "model = sklearn.linear_model.LinearRegression()\n",
    "\n",
    "model.fit(X, Y)\n",
    "\n",
    "X_new = [[22587]]  # 키프로스 1인당 GDP\n",
    "print(model.predict(X_new))"
   ]
  },
  {
   "cell_type": "markdown",
   "metadata": {},
   "source": [
    "# 연습문제"
   ]
  },
  {
   "cell_type": "markdown",
   "metadata": {},
   "source": [
    "### 1. 머신러닝이란?\n",
    "    데이터로 부터 학습할 수 있는 시스템을 만드는 것\n",
    "    * 학습이란?\n",
    "        어떤 작업에서 주어진 성능 지표가 더 나아지는 것\n",
    "                \n",
    "### 2. 머신러닝이 도움 줄 수 있는 문제 유형 4가지\n",
    "    1) 명확한 해결책이 없는 복잡한 문제\n",
    "    2) 기존 솔루션으로는 많은 수동 조작을 요구하는 문제\n",
    "    3) 유동적 환경의 문제\n",
    "    4) 복잡한 문제와 대량의 데이터\n",
    "        (ex. 데이터 마이닝)\n",
    "        \n",
    "### 3. 레이블된 훈련 세트란?\n",
    "    레이블 : 셈플의 정답\n",
    "        -> 지도학습의 정답 및 트레이닝의 정답\n",
    "\n",
    "### 4. 보편적 지도학습 두 가지?\n",
    "    1) 분류(classification) : 범주형 데이터\n",
    "    2) 회귀(regression) : 연속형 데이터\n",
    "    \n",
    "### 5. 보편적인 비지도 학습 네 가지?\n",
    "    1) 군집(clustering)\n",
    "    2) 시각화(visualization)\n",
    "    3) 차원축소(dimensionality reduction)\n",
    "    4) 연관규칙 학습(assosiation rule learning)\n",
    "\n",
    "### 6. 강화학습이란?\n",
    "    에이전트(학습하는 시스템)가 환경을 관찰하여 행동을 실행하고 그 결과로 보상 또는 penalty를 부여\n",
    "        -> 보상을 얻기 위한 정책(policy)를 스스로 학습\n",
    "        -> 정책은 주어진 상황에서 에이전트가 어떤 행동을 선택해야 할지 정의\n",
    "        \n",
    "\n",
    "### 7. 그룹 분할\n",
    "    1) 분류(classificaition) : 어떠한 기준으로 분류해야 할 줄 알 경우\n",
    "    2) 군집(clustering) : 기준을 모를 때 비슷한 그룹으로 분할\n",
    "\n",
    "### 8. 배치 학습(Batch Learning)이란?\n",
    "\n",
    "### 9. 온라인 학습(Online Learning)이란?\n",
    "    데이터를 순차적으로 한 개씩 또는 미니 배치라 부르는 작은 묶음 단위로 주입하여 시스템을 훈련\n",
    "    매 학습 단계가 빠르고 비용이 적게 들어 시스템은 데이터가 도착하는 대로 즉시 학습할 수 있다.\n",
    "    \n",
    "    배치 학습 시스템과 달리 점진적으로 학습할 수 있다.\n",
    "    온라인 학습 시스템은 변화하는 데이터와 자율 시스템에 빠르게 적응하고 매우 많은 양의 데이터를 훈련 시킬 수 있다.\n",
    "\n",
    "\n",
    "### 10.\n",
    "\n",
    "### 11."
   ]
  }
 ],
 "metadata": {
  "kernelspec": {
   "display_name": "Python 3",
   "language": "python",
   "name": "python3"
  },
  "language_info": {
   "codemirror_mode": {
    "name": "ipython",
    "version": 3
   },
   "file_extension": ".py",
   "mimetype": "text/x-python",
   "name": "python",
   "nbconvert_exporter": "python",
   "pygments_lexer": "ipython3",
   "version": "3.8.3"
  }
 },
 "nbformat": 4,
 "nbformat_minor": 4
}
