{
 "cells": [
  {
   "cell_type": "code",
   "execution_count": null,
   "metadata": {},
   "outputs": [],
   "source": [
    "import matplotlib.pyplot as plt\n",
    "import numpy as np\n",
    "import pandas as pd\n",
    "import sklearn.linear_model\n",
    "\n",
    "oecdBLI = pd.read_csv('rawData/BLI_10092020072350637.csv')\n",
    "gdp = pd.read_csv('rawData/WEO_Data.csv',thousands=',')\n",
    "\n",
    "oecdBLI=oecdBLI[oecdBLI[\"INEQUALITY\"]==\"TOT\"].pivot(index=\"Country\", columns=\"Indicator\", values=\"Value\")\n",
    "gdp.rename(columns={\"2015\": \"GDP\"}, inplace=True)\n",
    "gdp.set_index(\"Country\", inplace=True)\n",
    "\n",
    "bliGdp = pd.merge(oecdBLI, gdp, on=\"Country\")\n",
    "bliGdp.sort_values(by=\"GDP\", inplace=True)\n",
    "\n",
    "bliGdp=bliGdp[[\"GDP\", 'Life satisfaction']]\n",
    "\n",
    "X=np.c_[bliGdp[\"GDP\"]]\n",
    "Y=np.c_[bliGdp[\"Life satisfaction\"]]\n",
    "\n",
    "bliGdp.plot(kind='scatter', x=\"GDP\", y='Life satisfaction')\n",
    "plt.show()\n",
    "\n",
    "model = sklearn.linear_model.LinearRegression()\n",
    "\n",
    "model.fit(X, Y)\n",
    "\n",
    "X_new = [[22587]]  # 키프로스 1인당 GDP\n",
    "print(model.predict(X_new))"
   ]
  }
 ],
 "metadata": {
  "kernelspec": {
   "display_name": "Python 3",
   "language": "python",
   "name": "python3"
  },
  "language_info": {
   "codemirror_mode": {
    "name": "ipython",
    "version": 3
   },
   "file_extension": ".py",
   "mimetype": "text/x-python",
   "name": "python",
   "nbconvert_exporter": "python",
   "pygments_lexer": "ipython3",
   "version": "3.8.3"
  }
 },
 "nbformat": 4,
 "nbformat_minor": 4
}
